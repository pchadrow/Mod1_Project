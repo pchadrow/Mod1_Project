{
 "cells": [
  {
   "cell_type": "code",
   "execution_count": 1,
   "metadata": {},
   "outputs": [],
   "source": [
    "import pandas as pd"
   ]
  },
  {
   "cell_type": "code",
   "execution_count": 2,
   "metadata": {},
   "outputs": [
    {
     "data": {
      "text/plain": [
       "<module 'functions' from '/Users/leighannahooper/Desktop/flatiron/project/dsc-mod-1-project-v2-1-onl01-dtsc-ft-041320/functions.py'>"
      ]
     },
     "execution_count": 2,
     "metadata": {},
     "output_type": "execute_result"
    }
   ],
   "source": [
    "from importlib import reload\n",
    "import functions as fun\n",
    "\n",
    "reload(fun)"
   ]
  },
  {
   "cell_type": "code",
   "execution_count": 3,
   "metadata": {},
   "outputs": [],
   "source": [
    "%store -r df_tm_movies\n",
    "%store -r dfgenreIds"
   ]
  },
  {
   "cell_type": "code",
   "execution_count": 4,
   "metadata": {},
   "outputs": [],
   "source": [
    "dfgenreIds.to_csv('genreIds')"
   ]
  },
  {
   "cell_type": "code",
   "execution_count": 5,
   "metadata": {},
   "outputs": [
    {
     "data": {
      "text/html": [
       "<div>\n",
       "<style scoped>\n",
       "    .dataframe tbody tr th:only-of-type {\n",
       "        vertical-align: middle;\n",
       "    }\n",
       "\n",
       "    .dataframe tbody tr th {\n",
       "        vertical-align: top;\n",
       "    }\n",
       "\n",
       "    .dataframe thead th {\n",
       "        text-align: right;\n",
       "    }\n",
       "</style>\n",
       "<table border=\"1\" class=\"dataframe\">\n",
       "  <thead>\n",
       "    <tr style=\"text-align: right;\">\n",
       "      <th></th>\n",
       "      <th>genre_ids</th>\n",
       "      <th>original_title</th>\n",
       "      <th>popularity</th>\n",
       "      <th>vote_average</th>\n",
       "      <th>vote_count</th>\n",
       "      <th>genre_new_list</th>\n",
       "    </tr>\n",
       "    <tr>\n",
       "      <th>id</th>\n",
       "      <th></th>\n",
       "      <th></th>\n",
       "      <th></th>\n",
       "      <th></th>\n",
       "      <th></th>\n",
       "      <th></th>\n",
       "    </tr>\n",
       "  </thead>\n",
       "  <tbody>\n",
       "    <tr>\n",
       "      <td>12444</td>\n",
       "      <td>[12, 14, 10751]</td>\n",
       "      <td>Harry Potter and the Deathly Hallows: Part 1</td>\n",
       "      <td>33.533</td>\n",
       "      <td>7.7</td>\n",
       "      <td>10788</td>\n",
       "      <td>[12,  14,  10751]</td>\n",
       "    </tr>\n",
       "    <tr>\n",
       "      <td>10191</td>\n",
       "      <td>[14, 12, 16, 10751]</td>\n",
       "      <td>How to Train Your Dragon</td>\n",
       "      <td>28.734</td>\n",
       "      <td>7.7</td>\n",
       "      <td>7610</td>\n",
       "      <td>[14,  12,  16,  10751]</td>\n",
       "    </tr>\n",
       "    <tr>\n",
       "      <td>10138</td>\n",
       "      <td>[12, 28, 878]</td>\n",
       "      <td>Iron Man 2</td>\n",
       "      <td>28.515</td>\n",
       "      <td>6.8</td>\n",
       "      <td>12368</td>\n",
       "      <td>[12,  28,  878]</td>\n",
       "    </tr>\n",
       "    <tr>\n",
       "      <td>862</td>\n",
       "      <td>[16, 35, 10751]</td>\n",
       "      <td>Toy Story</td>\n",
       "      <td>28.005</td>\n",
       "      <td>7.9</td>\n",
       "      <td>10174</td>\n",
       "      <td>[16,  35,  10751]</td>\n",
       "    </tr>\n",
       "    <tr>\n",
       "      <td>27205</td>\n",
       "      <td>[28, 878, 12]</td>\n",
       "      <td>Inception</td>\n",
       "      <td>27.920</td>\n",
       "      <td>8.3</td>\n",
       "      <td>22186</td>\n",
       "      <td>[28,  878,  12]</td>\n",
       "    </tr>\n",
       "  </tbody>\n",
       "</table>\n",
       "</div>"
      ],
      "text/plain": [
       "                 genre_ids                                original_title  \\\n",
       "id                                                                         \n",
       "12444      [12, 14, 10751]  Harry Potter and the Deathly Hallows: Part 1   \n",
       "10191  [14, 12, 16, 10751]                      How to Train Your Dragon   \n",
       "10138        [12, 28, 878]                                    Iron Man 2   \n",
       "862        [16, 35, 10751]                                     Toy Story   \n",
       "27205        [28, 878, 12]                                     Inception   \n",
       "\n",
       "       popularity  vote_average  vote_count          genre_new_list  \n",
       "id                                                                   \n",
       "12444      33.533           7.7       10788       [12,  14,  10751]  \n",
       "10191      28.734           7.7        7610  [14,  12,  16,  10751]  \n",
       "10138      28.515           6.8       12368         [12,  28,  878]  \n",
       "862        28.005           7.9       10174       [16,  35,  10751]  \n",
       "27205      27.920           8.3       22186         [28,  878,  12]  "
      ]
     },
     "execution_count": 5,
     "metadata": {},
     "output_type": "execute_result"
    }
   ],
   "source": [
    "df_tm_movies.head()"
   ]
  },
  {
   "cell_type": "code",
   "execution_count": 6,
   "metadata": {},
   "outputs": [],
   "source": [
    "df_tm = df_tm_movies.drop(['genre_ids'], axis=1)\n",
    "df_tmdb = df_tm.set_index('original_title').sort_values('original_title')"
   ]
  },
  {
   "cell_type": "code",
   "execution_count": 7,
   "metadata": {},
   "outputs": [],
   "source": [
    "df_tmdb.rename(columns = {'genre_new_list' : 'genre_list'}, inplace = True)"
   ]
  },
  {
   "cell_type": "code",
   "execution_count": 8,
   "metadata": {},
   "outputs": [
    {
     "data": {
      "text/html": [
       "<div>\n",
       "<style scoped>\n",
       "    .dataframe tbody tr th:only-of-type {\n",
       "        vertical-align: middle;\n",
       "    }\n",
       "\n",
       "    .dataframe tbody tr th {\n",
       "        vertical-align: top;\n",
       "    }\n",
       "\n",
       "    .dataframe thead th {\n",
       "        text-align: right;\n",
       "    }\n",
       "</style>\n",
       "<table border=\"1\" class=\"dataframe\">\n",
       "  <thead>\n",
       "    <tr style=\"text-align: right;\">\n",
       "      <th></th>\n",
       "      <th>popularity</th>\n",
       "      <th>vote_average</th>\n",
       "      <th>vote_count</th>\n",
       "      <th>genre_list</th>\n",
       "    </tr>\n",
       "    <tr>\n",
       "      <th>original_title</th>\n",
       "      <th></th>\n",
       "      <th></th>\n",
       "      <th></th>\n",
       "      <th></th>\n",
       "    </tr>\n",
       "  </thead>\n",
       "  <tbody>\n",
       "    <tr>\n",
       "      <td>\"BLESSED\"</td>\n",
       "      <td>0.600</td>\n",
       "      <td>7.0</td>\n",
       "      <td>1</td>\n",
       "      <td>[99,  12]</td>\n",
       "    </tr>\n",
       "    <tr>\n",
       "      <td>\"Legitimate Rape\" Pharmaceutical Ad</td>\n",
       "      <td>0.600</td>\n",
       "      <td>2.3</td>\n",
       "      <td>2</td>\n",
       "      <td>[35,  80]</td>\n",
       "    </tr>\n",
       "    <tr>\n",
       "      <td>\"cherry\" - Supreme</td>\n",
       "      <td>0.893</td>\n",
       "      <td>10.0</td>\n",
       "      <td>1</td>\n",
       "      <td>[99]</td>\n",
       "    </tr>\n",
       "    <tr>\n",
       "      <td>#1 Cheerleader Camp</td>\n",
       "      <td>3.277</td>\n",
       "      <td>3.6</td>\n",
       "      <td>34</td>\n",
       "      <td>[35,  18]</td>\n",
       "    </tr>\n",
       "    <tr>\n",
       "      <td>#ALLMYMOVIES</td>\n",
       "      <td>0.840</td>\n",
       "      <td>9.0</td>\n",
       "      <td>4</td>\n",
       "      <td>[99]</td>\n",
       "    </tr>\n",
       "  </tbody>\n",
       "</table>\n",
       "</div>"
      ],
      "text/plain": [
       "                                     popularity  vote_average  vote_count  \\\n",
       "original_title                                                              \n",
       "\"BLESSED\"                                 0.600           7.0           1   \n",
       "\"Legitimate Rape\" Pharmaceutical Ad       0.600           2.3           2   \n",
       "\"cherry\" - Supreme                        0.893          10.0           1   \n",
       "#1 Cheerleader Camp                       3.277           3.6          34   \n",
       "#ALLMYMOVIES                              0.840           9.0           4   \n",
       "\n",
       "                                    genre_list  \n",
       "original_title                                  \n",
       "\"BLESSED\"                            [99,  12]  \n",
       "\"Legitimate Rape\" Pharmaceutical Ad  [35,  80]  \n",
       "\"cherry\" - Supreme                        [99]  \n",
       "#1 Cheerleader Camp                  [35,  18]  \n",
       "#ALLMYMOVIES                              [99]  "
      ]
     },
     "execution_count": 8,
     "metadata": {},
     "output_type": "execute_result"
    }
   ],
   "source": [
    "df_tmdb.head()"
   ]
  },
  {
   "cell_type": "code",
   "execution_count": 9,
   "metadata": {},
   "outputs": [
    {
     "name": "stdout",
     "output_type": "stream",
     "text": [
      "Stored 'df_tmdb' (DataFrame)\n"
     ]
    }
   ],
   "source": [
    "%store df_tmdb"
   ]
  },
  {
   "cell_type": "code",
   "execution_count": 10,
   "metadata": {},
   "outputs": [],
   "source": [
    "df = df_tmdb"
   ]
  },
  {
   "cell_type": "code",
   "execution_count": 11,
   "metadata": {},
   "outputs": [
    {
     "data": {
      "text/html": [
       "<div>\n",
       "<style scoped>\n",
       "    .dataframe tbody tr th:only-of-type {\n",
       "        vertical-align: middle;\n",
       "    }\n",
       "\n",
       "    .dataframe tbody tr th {\n",
       "        vertical-align: top;\n",
       "    }\n",
       "\n",
       "    .dataframe thead th {\n",
       "        text-align: right;\n",
       "    }\n",
       "</style>\n",
       "<table border=\"1\" class=\"dataframe\">\n",
       "  <thead>\n",
       "    <tr style=\"text-align: right;\">\n",
       "      <th></th>\n",
       "      <th>genre_1</th>\n",
       "      <th>genre_2</th>\n",
       "      <th>genre_3</th>\n",
       "      <th>genre_4</th>\n",
       "      <th>genre_5</th>\n",
       "      <th>genre_6</th>\n",
       "      <th>genre_7</th>\n",
       "    </tr>\n",
       "    <tr>\n",
       "      <th>original_title</th>\n",
       "      <th></th>\n",
       "      <th></th>\n",
       "      <th></th>\n",
       "      <th></th>\n",
       "      <th></th>\n",
       "      <th></th>\n",
       "      <th></th>\n",
       "    </tr>\n",
       "  </thead>\n",
       "  <tbody>\n",
       "    <tr>\n",
       "      <td>\"BLESSED\"</td>\n",
       "      <td>99</td>\n",
       "      <td>12</td>\n",
       "      <td>NaN</td>\n",
       "      <td>NaN</td>\n",
       "      <td>NaN</td>\n",
       "      <td>NaN</td>\n",
       "      <td>NaN</td>\n",
       "    </tr>\n",
       "    <tr>\n",
       "      <td>\"Legitimate Rape\" Pharmaceutical Ad</td>\n",
       "      <td>35</td>\n",
       "      <td>80</td>\n",
       "      <td>NaN</td>\n",
       "      <td>NaN</td>\n",
       "      <td>NaN</td>\n",
       "      <td>NaN</td>\n",
       "      <td>NaN</td>\n",
       "    </tr>\n",
       "    <tr>\n",
       "      <td>\"cherry\" - Supreme</td>\n",
       "      <td>99</td>\n",
       "      <td>NaN</td>\n",
       "      <td>NaN</td>\n",
       "      <td>NaN</td>\n",
       "      <td>NaN</td>\n",
       "      <td>NaN</td>\n",
       "      <td>NaN</td>\n",
       "    </tr>\n",
       "    <tr>\n",
       "      <td>#1 Cheerleader Camp</td>\n",
       "      <td>35</td>\n",
       "      <td>18</td>\n",
       "      <td>NaN</td>\n",
       "      <td>NaN</td>\n",
       "      <td>NaN</td>\n",
       "      <td>NaN</td>\n",
       "      <td>NaN</td>\n",
       "    </tr>\n",
       "    <tr>\n",
       "      <td>#ALLMYMOVIES</td>\n",
       "      <td>99</td>\n",
       "      <td>NaN</td>\n",
       "      <td>NaN</td>\n",
       "      <td>NaN</td>\n",
       "      <td>NaN</td>\n",
       "      <td>NaN</td>\n",
       "      <td>NaN</td>\n",
       "    </tr>\n",
       "    <tr>\n",
       "      <td>...</td>\n",
       "      <td>...</td>\n",
       "      <td>...</td>\n",
       "      <td>...</td>\n",
       "      <td>...</td>\n",
       "      <td>...</td>\n",
       "      <td>...</td>\n",
       "      <td>...</td>\n",
       "    </tr>\n",
       "    <tr>\n",
       "      <td>하하하</td>\n",
       "      <td>35</td>\n",
       "      <td>18</td>\n",
       "      <td>10749</td>\n",
       "      <td>NaN</td>\n",
       "      <td>NaN</td>\n",
       "      <td>NaN</td>\n",
       "      <td>NaN</td>\n",
       "    </tr>\n",
       "    <tr>\n",
       "      <td>해양경찰 마르코</td>\n",
       "      <td>16</td>\n",
       "      <td>12</td>\n",
       "      <td>35</td>\n",
       "      <td>NaN</td>\n",
       "      <td>NaN</td>\n",
       "      <td>NaN</td>\n",
       "      <td>NaN</td>\n",
       "    </tr>\n",
       "    <tr>\n",
       "      <td>황산벌</td>\n",
       "      <td>36</td>\n",
       "      <td>10752</td>\n",
       "      <td>35</td>\n",
       "      <td>NaN</td>\n",
       "      <td>NaN</td>\n",
       "      <td>NaN</td>\n",
       "      <td>NaN</td>\n",
       "    </tr>\n",
       "    <tr>\n",
       "      <td>황해</td>\n",
       "      <td>18</td>\n",
       "      <td>53</td>\n",
       "      <td>80</td>\n",
       "      <td>NaN</td>\n",
       "      <td>NaN</td>\n",
       "      <td>NaN</td>\n",
       "      <td>NaN</td>\n",
       "    </tr>\n",
       "    <tr>\n",
       "      <td>후궁: 제왕의 첩</td>\n",
       "      <td>18</td>\n",
       "      <td>NaN</td>\n",
       "      <td>NaN</td>\n",
       "      <td>NaN</td>\n",
       "      <td>NaN</td>\n",
       "      <td>NaN</td>\n",
       "      <td>NaN</td>\n",
       "    </tr>\n",
       "  </tbody>\n",
       "</table>\n",
       "<p>26517 rows × 7 columns</p>\n",
       "</div>"
      ],
      "text/plain": [
       "                                    genre_1 genre_2 genre_3 genre_4 genre_5  \\\n",
       "original_title                                                                \n",
       "\"BLESSED\"                                99      12     NaN     NaN     NaN   \n",
       "\"Legitimate Rape\" Pharmaceutical Ad      35      80     NaN     NaN     NaN   \n",
       "\"cherry\" - Supreme                       99     NaN     NaN     NaN     NaN   \n",
       "#1 Cheerleader Camp                      35      18     NaN     NaN     NaN   \n",
       "#ALLMYMOVIES                             99     NaN     NaN     NaN     NaN   \n",
       "...                                     ...     ...     ...     ...     ...   \n",
       "하하하                                      35      18   10749     NaN     NaN   \n",
       "해양경찰 마르코                                 16      12      35     NaN     NaN   \n",
       "황산벌                                      36   10752      35     NaN     NaN   \n",
       "황해                                       18      53      80     NaN     NaN   \n",
       "후궁: 제왕의 첩                                18     NaN     NaN     NaN     NaN   \n",
       "\n",
       "                                    genre_6 genre_7  \n",
       "original_title                                       \n",
       "\"BLESSED\"                               NaN     NaN  \n",
       "\"Legitimate Rape\" Pharmaceutical Ad     NaN     NaN  \n",
       "\"cherry\" - Supreme                      NaN     NaN  \n",
       "#1 Cheerleader Camp                     NaN     NaN  \n",
       "#ALLMYMOVIES                            NaN     NaN  \n",
       "...                                     ...     ...  \n",
       "하하하                                     NaN     NaN  \n",
       "해양경찰 마르코                                NaN     NaN  \n",
       "황산벌                                     NaN     NaN  \n",
       "황해                                      NaN     NaN  \n",
       "후궁: 제왕의 첩                               NaN     NaN  \n",
       "\n",
       "[26517 rows x 7 columns]"
      ]
     },
     "execution_count": 11,
     "metadata": {},
     "output_type": "execute_result"
    }
   ],
   "source": [
    "genres = df['genre_list'].apply(pd.Series)\n",
    "# rename each variable\n",
    "genres = genres.rename(columns = lambda x : 'genre_' + str(x + 1))\n",
    "# view the new dataframe\n",
    "genres"
   ]
  },
  {
   "cell_type": "code",
   "execution_count": 12,
   "metadata": {},
   "outputs": [],
   "source": [
    "df_genres = pd.concat([df[:], genres[:]], axis=1)"
   ]
  },
  {
   "cell_type": "code",
   "execution_count": 13,
   "metadata": {},
   "outputs": [],
   "source": [
    "df = df_genres.drop(['genre_3', 'genre_4', 'genre_5', 'genre_6', 'genre_7'], axis=1)"
   ]
  },
  {
   "cell_type": "code",
   "execution_count": 14,
   "metadata": {},
   "outputs": [
    {
     "name": "stdout",
     "output_type": "stream",
     "text": [
      "Stored 'df' (DataFrame)\n"
     ]
    }
   ],
   "source": [
    "%store df"
   ]
  },
  {
   "cell_type": "code",
   "execution_count": 15,
   "metadata": {},
   "outputs": [],
   "source": [
    "df.reset_index(drop=True, inplace=True)"
   ]
  },
  {
   "cell_type": "code",
   "execution_count": 16,
   "metadata": {},
   "outputs": [],
   "source": [
    "df_cleaning = df['genre_1'].value_counts().sort_values(ascending=False)"
   ]
  },
  {
   "cell_type": "code",
   "execution_count": 17,
   "metadata": {},
   "outputs": [],
   "source": [
    "df.rename(columns = {'genre_1' : 'genres'}, inplace = True)\n",
    "df.rename(columns = {'popularity' : 'Popularity'}, inplace = True)"
   ]
  },
  {
   "cell_type": "code",
   "execution_count": 18,
   "metadata": {},
   "outputs": [
    {
     "data": {
      "text/html": [
       "<div>\n",
       "<style scoped>\n",
       "    .dataframe tbody tr th:only-of-type {\n",
       "        vertical-align: middle;\n",
       "    }\n",
       "\n",
       "    .dataframe tbody tr th {\n",
       "        vertical-align: top;\n",
       "    }\n",
       "\n",
       "    .dataframe thead th {\n",
       "        text-align: right;\n",
       "    }\n",
       "</style>\n",
       "<table border=\"1\" class=\"dataframe\">\n",
       "  <thead>\n",
       "    <tr style=\"text-align: right;\">\n",
       "      <th></th>\n",
       "      <th>Popularity</th>\n",
       "      <th>vote_average</th>\n",
       "      <th>vote_count</th>\n",
       "      <th>genre_list</th>\n",
       "      <th>genres</th>\n",
       "      <th>genre_2</th>\n",
       "    </tr>\n",
       "  </thead>\n",
       "  <tbody>\n",
       "    <tr>\n",
       "      <td>0</td>\n",
       "      <td>0.600</td>\n",
       "      <td>7.0</td>\n",
       "      <td>1</td>\n",
       "      <td>[99,  12]</td>\n",
       "      <td>99</td>\n",
       "      <td>12</td>\n",
       "    </tr>\n",
       "    <tr>\n",
       "      <td>1</td>\n",
       "      <td>0.600</td>\n",
       "      <td>2.3</td>\n",
       "      <td>2</td>\n",
       "      <td>[35,  80]</td>\n",
       "      <td>35</td>\n",
       "      <td>80</td>\n",
       "    </tr>\n",
       "    <tr>\n",
       "      <td>2</td>\n",
       "      <td>0.893</td>\n",
       "      <td>10.0</td>\n",
       "      <td>1</td>\n",
       "      <td>[99]</td>\n",
       "      <td>99</td>\n",
       "      <td>NaN</td>\n",
       "    </tr>\n",
       "    <tr>\n",
       "      <td>3</td>\n",
       "      <td>3.277</td>\n",
       "      <td>3.6</td>\n",
       "      <td>34</td>\n",
       "      <td>[35,  18]</td>\n",
       "      <td>35</td>\n",
       "      <td>18</td>\n",
       "    </tr>\n",
       "    <tr>\n",
       "      <td>4</td>\n",
       "      <td>0.840</td>\n",
       "      <td>9.0</td>\n",
       "      <td>4</td>\n",
       "      <td>[99]</td>\n",
       "      <td>99</td>\n",
       "      <td>NaN</td>\n",
       "    </tr>\n",
       "  </tbody>\n",
       "</table>\n",
       "</div>"
      ],
      "text/plain": [
       "   Popularity  vote_average  vote_count genre_list genres genre_2\n",
       "0       0.600           7.0           1  [99,  12]     99      12\n",
       "1       0.600           2.3           2  [35,  80]     35      80\n",
       "2       0.893          10.0           1       [99]     99     NaN\n",
       "3       3.277           3.6          34  [35,  18]     35      18\n",
       "4       0.840           9.0           4       [99]     99     NaN"
      ]
     },
     "execution_count": 18,
     "metadata": {},
     "output_type": "execute_result"
    }
   ],
   "source": [
    "df.head()"
   ]
  },
  {
   "cell_type": "code",
   "execution_count": 19,
   "metadata": {},
   "outputs": [
    {
     "data": {
      "text/plain": [
       "0        99\n",
       "1        35\n",
       "2        99\n",
       "3        35\n",
       "4        99\n",
       "         ..\n",
       "26512    35\n",
       "26513    16\n",
       "26514    36\n",
       "26515    18\n",
       "26516    18\n",
       "Name: genres, Length: 26517, dtype: object"
      ]
     },
     "execution_count": 19,
     "metadata": {},
     "output_type": "execute_result"
    }
   ],
   "source": [
    "df['genres'].apply(lambda x : str(x))"
   ]
  },
  {
   "cell_type": "code",
   "execution_count": 20,
   "metadata": {},
   "outputs": [
    {
     "data": {
      "text/plain": [
       "18       4923\n",
       "99       4407\n",
       "35       3632\n",
       "         2479\n",
       "27       2209\n",
       "28       1651\n",
       "53       1533\n",
       "16        917\n",
       "10749     694\n",
       "10402     678\n",
       "878       572\n",
       "12        545\n",
       "80        538\n",
       "10751     459\n",
       "10770     365\n",
       "14        317\n",
       "9648      287\n",
       "36        127\n",
       "10752     103\n",
       "37         81\n",
       "Name: genre_1, dtype: int64"
      ]
     },
     "execution_count": 20,
     "metadata": {},
     "output_type": "execute_result"
    }
   ],
   "source": [
    "df_cleaning"
   ]
  },
  {
   "cell_type": "code",
   "execution_count": 21,
   "metadata": {
    "scrolled": true
   },
   "outputs": [
    {
     "data": {
      "text/plain": [
       "20"
      ]
     },
     "execution_count": 21,
     "metadata": {},
     "output_type": "execute_result"
    }
   ],
   "source": [
    "len(df_cleaning)"
   ]
  },
  {
   "cell_type": "code",
   "execution_count": 22,
   "metadata": {},
   "outputs": [
    {
     "name": "stdout",
     "output_type": "stream",
     "text": [
      "Stored 'df_cleaning' (Series)\n"
     ]
    }
   ],
   "source": [
    "%store df_cleaning"
   ]
  },
  {
   "cell_type": "code",
   "execution_count": 23,
   "metadata": {},
   "outputs": [],
   "source": [
    "dftop_genres = df.loc[(df['genres'] == '18') |\n",
    "                        (df['genres'] == '99') | \n",
    "                      (df['genres'] == '35') |\n",
    "                      (df['genres'] == '27') |\n",
    "                      (df['genres'] == '28') |\n",
    "                      (df['genres'] == '53') |\n",
    "                      (df['genres'] == '16') |\n",
    "                        (df['genres'] == '10749') |\n",
    "                        (df['genres']  == '10402')]\n",
    "                              "
   ]
  },
  {
   "cell_type": "code",
   "execution_count": 24,
   "metadata": {},
   "outputs": [
    {
     "data": {
      "text/plain": [
       "array(['99', '35', '27', '53', '18', '10749', '10402', '28', '16'],\n",
       "      dtype=object)"
      ]
     },
     "execution_count": 24,
     "metadata": {},
     "output_type": "execute_result"
    }
   ],
   "source": [
    "dftop_genres['genres'].unique()"
   ]
  },
  {
   "cell_type": "code",
   "execution_count": 25,
   "metadata": {},
   "outputs": [],
   "source": [
    "dftop = dftop_genres"
   ]
  },
  {
   "cell_type": "code",
   "execution_count": 26,
   "metadata": {},
   "outputs": [
    {
     "name": "stdout",
     "output_type": "stream",
     "text": [
      "Stored 'dftop' (DataFrame)\n"
     ]
    }
   ],
   "source": [
    "%store dftop "
   ]
  },
  {
   "cell_type": "code",
   "execution_count": 27,
   "metadata": {},
   "outputs": [],
   "source": [
    "dfgen_bud = df.loc[(df['genres'] == '28') |\n",
    "                        (df['genres'] == '12') | \n",
    "                      (df['genres'] == '16') |\n",
    "                      (df['genres'] == '14') |\n",
    "                      (df['genres'] == '10751') |\n",
    "                      (df['genres'] == '878') ]"
   ]
  },
  {
   "cell_type": "code",
   "execution_count": 28,
   "metadata": {},
   "outputs": [
    {
     "data": {
      "text/html": [
       "<div>\n",
       "<style scoped>\n",
       "    .dataframe tbody tr th:only-of-type {\n",
       "        vertical-align: middle;\n",
       "    }\n",
       "\n",
       "    .dataframe tbody tr th {\n",
       "        vertical-align: top;\n",
       "    }\n",
       "\n",
       "    .dataframe thead th {\n",
       "        text-align: right;\n",
       "    }\n",
       "</style>\n",
       "<table border=\"1\" class=\"dataframe\">\n",
       "  <thead>\n",
       "    <tr style=\"text-align: right;\">\n",
       "      <th></th>\n",
       "      <th>Popularity</th>\n",
       "      <th>vote_average</th>\n",
       "      <th>vote_count</th>\n",
       "      <th>genre_list</th>\n",
       "      <th>genres</th>\n",
       "      <th>genre_2</th>\n",
       "    </tr>\n",
       "  </thead>\n",
       "  <tbody>\n",
       "    <tr>\n",
       "      <td>12</td>\n",
       "      <td>1.274</td>\n",
       "      <td>5.5</td>\n",
       "      <td>3</td>\n",
       "      <td>[878,  10402,  35]</td>\n",
       "      <td>878</td>\n",
       "      <td>10402</td>\n",
       "    </tr>\n",
       "    <tr>\n",
       "      <td>20</td>\n",
       "      <td>1.230</td>\n",
       "      <td>10.0</td>\n",
       "      <td>1</td>\n",
       "      <td>[10751,  18]</td>\n",
       "      <td>10751</td>\n",
       "      <td>18</td>\n",
       "    </tr>\n",
       "    <tr>\n",
       "      <td>46</td>\n",
       "      <td>6.325</td>\n",
       "      <td>5.9</td>\n",
       "      <td>23</td>\n",
       "      <td>[28,  35,  10749]</td>\n",
       "      <td>28</td>\n",
       "      <td>35</td>\n",
       "    </tr>\n",
       "    <tr>\n",
       "      <td>56</td>\n",
       "      <td>0.667</td>\n",
       "      <td>7.0</td>\n",
       "      <td>1</td>\n",
       "      <td>[16]</td>\n",
       "      <td>16</td>\n",
       "      <td>NaN</td>\n",
       "    </tr>\n",
       "    <tr>\n",
       "      <td>57</td>\n",
       "      <td>1.144</td>\n",
       "      <td>5.3</td>\n",
       "      <td>8</td>\n",
       "      <td>[28,  80,  53]</td>\n",
       "      <td>28</td>\n",
       "      <td>80</td>\n",
       "    </tr>\n",
       "    <tr>\n",
       "      <td>...</td>\n",
       "      <td>...</td>\n",
       "      <td>...</td>\n",
       "      <td>...</td>\n",
       "      <td>...</td>\n",
       "      <td>...</td>\n",
       "      <td>...</td>\n",
       "    </tr>\n",
       "    <tr>\n",
       "      <td>26497</td>\n",
       "      <td>7.941</td>\n",
       "      <td>10.0</td>\n",
       "      <td>3</td>\n",
       "      <td>[16,  12]</td>\n",
       "      <td>16</td>\n",
       "      <td>12</td>\n",
       "    </tr>\n",
       "    <tr>\n",
       "      <td>26498</td>\n",
       "      <td>6.411</td>\n",
       "      <td>6.8</td>\n",
       "      <td>24</td>\n",
       "      <td>[28,  35,  80,  36,  9648]</td>\n",
       "      <td>28</td>\n",
       "      <td>35</td>\n",
       "    </tr>\n",
       "    <tr>\n",
       "      <td>26505</td>\n",
       "      <td>7.080</td>\n",
       "      <td>6.7</td>\n",
       "      <td>101</td>\n",
       "      <td>[28,  18]</td>\n",
       "      <td>28</td>\n",
       "      <td>18</td>\n",
       "    </tr>\n",
       "    <tr>\n",
       "      <td>26506</td>\n",
       "      <td>1.944</td>\n",
       "      <td>7.2</td>\n",
       "      <td>18</td>\n",
       "      <td>[28,  18]</td>\n",
       "      <td>28</td>\n",
       "      <td>18</td>\n",
       "    </tr>\n",
       "    <tr>\n",
       "      <td>26513</td>\n",
       "      <td>0.600</td>\n",
       "      <td>8.0</td>\n",
       "      <td>1</td>\n",
       "      <td>[16,  12,  35]</td>\n",
       "      <td>16</td>\n",
       "      <td>12</td>\n",
       "    </tr>\n",
       "  </tbody>\n",
       "</table>\n",
       "<p>4461 rows × 6 columns</p>\n",
       "</div>"
      ],
      "text/plain": [
       "       Popularity  vote_average  vote_count                  genre_list  \\\n",
       "12          1.274           5.5           3          [878,  10402,  35]   \n",
       "20          1.230          10.0           1                [10751,  18]   \n",
       "46          6.325           5.9          23           [28,  35,  10749]   \n",
       "56          0.667           7.0           1                        [16]   \n",
       "57          1.144           5.3           8              [28,  80,  53]   \n",
       "...           ...           ...         ...                         ...   \n",
       "26497       7.941          10.0           3                   [16,  12]   \n",
       "26498       6.411           6.8          24  [28,  35,  80,  36,  9648]   \n",
       "26505       7.080           6.7         101                   [28,  18]   \n",
       "26506       1.944           7.2          18                   [28,  18]   \n",
       "26513       0.600           8.0           1              [16,  12,  35]   \n",
       "\n",
       "      genres genre_2  \n",
       "12       878   10402  \n",
       "20     10751      18  \n",
       "46        28      35  \n",
       "56        16     NaN  \n",
       "57        28      80  \n",
       "...      ...     ...  \n",
       "26497     16      12  \n",
       "26498     28      35  \n",
       "26505     28      18  \n",
       "26506     28      18  \n",
       "26513     16      12  \n",
       "\n",
       "[4461 rows x 6 columns]"
      ]
     },
     "execution_count": 28,
     "metadata": {},
     "output_type": "execute_result"
    }
   ],
   "source": [
    "dfgen_bud"
   ]
  },
  {
   "cell_type": "code",
   "execution_count": 29,
   "metadata": {},
   "outputs": [
    {
     "name": "stdout",
     "output_type": "stream",
     "text": [
      "Stored 'dfgen_bud' (DataFrame)\n"
     ]
    }
   ],
   "source": [
    "%store dfgen_bud"
   ]
  },
  {
   "cell_type": "code",
   "execution_count": 30,
   "metadata": {},
   "outputs": [
    {
     "data": {
      "text/plain": [
       "True    26517\n",
       "Name: genres, dtype: int64"
      ]
     },
     "execution_count": 30,
     "metadata": {},
     "output_type": "execute_result"
    }
   ],
   "source": [
    "df['genres'].notnull().value_counts()"
   ]
  },
  {
   "cell_type": "code",
   "execution_count": null,
   "metadata": {},
   "outputs": [],
   "source": []
  }
 ],
 "metadata": {
  "kernelspec": {
   "display_name": "Python [conda env:learn-env] *",
   "language": "python",
   "name": "conda-env-learn-env-py"
  },
  "language_info": {
   "codemirror_mode": {
    "name": "ipython",
    "version": 3
   },
   "file_extension": ".py",
   "mimetype": "text/x-python",
   "name": "python",
   "nbconvert_exporter": "python",
   "pygments_lexer": "ipython3",
   "version": "3.6.9"
  }
 },
 "nbformat": 4,
 "nbformat_minor": 2
}
